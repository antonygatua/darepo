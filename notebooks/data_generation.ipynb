{
 "cells": [
  {
   "cell_type": "markdown",
   "metadata": {},
   "source": [
    "# Data Generation Blueprint"
   ]
  },
  {
   "cell_type": "markdown",
   "metadata": {},
   "source": [
    "## Introduction"
   ]
  },
  {
   "cell_type": "markdown",
   "metadata": {},
   "source": [
    "Welcome to the **Data Generation Blueprint** notebook for Darepo! This notebook serves as the foundation for designing and building the data generation functionality of the Darepo web app. \n",
    "<br></br> \n",
    "**Goal**: *To create a flexible and scalable schema for generating realistic and structured tabular data that can be used for application testing, training ML & AI models, statistical analysis, and educational purposes*.\n",
    "\n",
    "This notebook:\n",
    "- Defines the different categories of data types (e.g., dates, categorical, numerical, and text).\n",
    "- Breaks down these categories into subcategories and provides examples.\n",
    "- Outlines constraints, relationships, and metadata attributes needed to create meaningful and realistic dummy data."
   ]
  },
  {
   "cell_type": "markdown",
   "metadata": {},
   "source": [
    "## Data Schema Design"
   ]
  },
  {
   "cell_type": "markdown",
   "metadata": {},
   "source": [
    "This section defines and organizes the different categories of data types used in Darepo. The structure ensures a flexible and scalable schema, covering a variety of business scenarios while generating realistic dummy data. Each category is broken down into subcategories to capture the different ways data may appear in real datasets.\n",
    "\n",
    "#### 1. Date\n",
    "\n",
    "This category includes any time-related data, such as timestamps, dates, and time intervals. It is divided into:\n",
    "   - **Timestamps**: Complete date and time values (e.g., `2024-10-13 14:35:00`).\n",
    "   - **Dates Only**: Year, month, and day (e.g., `2024-10-13`).\n",
    "   - **Times Only**: Hours, minutes, and seconds (e.g., `14:35:00`).\n",
    "\n",
    "\n",
    "#### 2. Categorical\n",
    "\n",
    "This category contains all non-numerical data that falls into distinct groups or categories. It is further divided into:\n",
    "   - **Static Categories**: Fixed categories like product types, locations, or gender (e.g., “Electronics,” “New York,” “Male”).\n",
    "   - **Dynamic Categories**: Context-specific categories that may vary over time (e.g., order status like “Pending,” “Shipped,” “Delivered”).\n",
    "   - **Identifiers**: Unique strings such as product IDs, customer IDs, or user names.\n",
    "   - **Boolean Categories**: Simple true/false or yes/no fields.\n",
    "   \n",
    "\n",
    "#### 3. Numerical\n",
    "\n",
    "Numerical data is divided based on whether it’s continuous or discrete:\n",
    "   - **Continuous Data**: Numeric values that can take on a wide range of values, often including decimals (e.g., prices, weights, temperatures).\n",
    "   - **Discrete Data**: Numeric values counted in whole numbers (e.g., quantities, counts, ratings on a scale).\n",
    "   - **Derived or Computed Data**: Values calculated based on other columns (e.g., “Total Price” = “Quantity” * “Price per Unit”).\n",
    "   - **Ranges**: For numbers falling within a defined interval (e.g., ages from 18 to 65).\n",
    "   \n",
    "\n",
    "#### 4. Text Data (Separate Category)\n",
    "\n",
    "While text data can sometimes be part of categorical data, separating it as its own category is helpful due to its variability in length and structure:\n",
    "   - **Short Text**: Fields like \"First Name\" or \"Job Title\" that have a limited length.\n",
    "   - **Long Text**: Descriptions, comments, or any unstructured text (e.g., product descriptions, customer feedback).\n",
    "   - **Structured Text Patterns**: Text data that follows specific formats (e.g., email addresses, phone numbers, postal codes).\n",
    "\n",
    "#### 5. Hierarchical or Relational Data\n",
    "\n",
    "Some datasets have hierarchical or nested relationships (e.g., categories and subcategories, regions and cities). Including this helps design columns that connect related data (e.g., \"Country\" -> \"State\" -> \"City\"). This is particularly useful for schemas involving inventory or sales data, where hierarchical relationships are common.\n",
    "\n",
    "#### 6. Data Integrity and Constraints\n",
    "\n",
    "Defining constraints and rules ensures the generated data is meaningful and realistic:\n",
    "   - **Value Constraints**: For example, age values must fall between 0 and 120.\n",
    "   - **Uniqueness**: Fields like \"Email\" or \"ID\" must be unique.\n",
    "   - **Foreign Key Relationships**: Ensures linked columns (e.g., Customer ID) match records in another table.\n",
    "\n",
    "#### 7. Metadata for Columns\n",
    "\n",
    "Metadata documents each column’s purpose, data type, and constraints, making it easier to generate realistic and relevant data. Examples include:\n",
    "   - **Data Type**: Specifies whether the column is date, categorical, numerical, text, etc.\n",
    "   - **Range**: Defines the minimum and maximum values allowed for numerical data.\n",
    "   - **Format**: For date columns or structured text (e.g., DD-MM-YYYY or phone numbers).\n",
    "   - **Nullability**: Indicates whether the column can have missing (null) values."
   ]
  },
  {
   "cell_type": "code",
   "execution_count": null,
   "metadata": {},
   "outputs": [],
   "source": []
  }
 ],
 "metadata": {
  "language_info": {
   "name": "python"
  }
 },
 "nbformat": 4,
 "nbformat_minor": 2
}
