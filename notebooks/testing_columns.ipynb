{
 "cells": [
  {
   "cell_type": "code",
   "execution_count": null,
   "metadata": {},
   "outputs": [],
   "source": [
    "# timestamps function test\n",
    "df = generate_random_timestamps(\n",
    "    n_rows=10,\n",
    "    timestamp_format=\"%Y-%m-%d %H:%M:%S\",\n",
    "    start_date=\"2024-01-01\",\n",
    "    end_date=\"2024-12-31\",\n",
    "    operational_hours=(\"09:00\", \"17:00\"),\n",
    "    daily_patterns=[(\"09:00\", \"12:00\"), (\"13:00\", \"17:00\")],\n",
    "    seasonal_patterns=[(\"2024-06-01\", \"2024-09-01\")],\n",
    "    time_frequency='daily',\n",
    "    random_noise=5\n",
    ")\n",
    "\n",
    "print(df)"
   ]
  },
  {
   "cell_type": "code",
   "execution_count": null,
   "metadata": {},
   "outputs": [],
   "source": [
    "# time function usage:\n",
    "df = generate_random_times(\n",
    "    n_rows=10,\n",
    "    time_format=\"%H:%M:%S\",\n",
    "    operational_hours=(\"09:00\", \"17:00\"),\n",
    "    peak_hours=[(\"07:00\", \"10:00\"), (\"15:00\", \"19:00\")],\n",
    "    event_frequency='15min',\n",
    "    random_noise=5,\n",
    "    bias_towards_peak=True\n",
    ")\n",
    "\n",
    "print(df)"
   ]
  },
  {
   "cell_type": "code",
   "execution_count": null,
   "metadata": {},
   "outputs": [],
   "source": [
    "# date function usage:\n",
    "df = generate_random_dates(\n",
    "    n_rows=10,\n",
    "    date_format=\"%Y-%m-%d\",\n",
    "    start_date=\"2024-01-01\",\n",
    "    end_date=\"2024-12-31\",\n",
    "    seasonal_patterns=[(\"2024-06-01\", \"2024-09-01\")],\n",
    "    event_frequency='weekly',\n",
    "    weekdays_only=True,\n",
    "    holidays=[\"2024-12-25\", \"2024-01-01\"],\n",
    "    bias_towards_seasonal=True\n",
    ")\n",
    "\n",
    "print(df)"
   ]
  }
 ],
 "metadata": {
  "language_info": {
   "name": "python"
  }
 },
 "nbformat": 4,
 "nbformat_minor": 2
}
