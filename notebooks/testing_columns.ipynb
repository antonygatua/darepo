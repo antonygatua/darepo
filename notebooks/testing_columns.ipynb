{
 "cells": [
  {
   "cell_type": "code",
   "execution_count": null,
   "metadata": {},
   "outputs": [],
   "source": [
    "# timestamps function test\n",
    "df = generate_random_timestamps(\n",
    "    n_rows=10,\n",
    "    timestamp_format=\"%Y-%m-%d %H:%M:%S\",\n",
    "    start_date=\"2024-01-01\",\n",
    "    end_date=\"2024-12-31\",\n",
    "    operational_hours=(\"09:00\", \"17:00\"),\n",
    "    daily_patterns=[(\"09:00\", \"12:00\"), (\"13:00\", \"17:00\")],\n",
    "    seasonal_patterns=[(\"2024-06-01\", \"2024-09-01\")],\n",
    "    time_frequency='daily',\n",
    "    random_noise=5\n",
    ")\n",
    "\n",
    "print(df)"
   ]
  }
 ],
 "metadata": {
  "language_info": {
   "name": "python"
  }
 },
 "nbformat": 4,
 "nbformat_minor": 2
}
